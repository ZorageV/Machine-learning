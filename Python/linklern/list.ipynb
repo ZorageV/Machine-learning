{
 "cells": [],
 "metadata": {
  "kernelspec": {
   "display_name": "Python 3",
   "language": "python",
   "name": "python3"
  },
  "language_info": {
   "codemirror_mode": {
    "name": "ipython",
    "version": 3
   },
   "file_extension": ".py",
   "mimetype": "text/x-python",
   "name": "python",
   "nbconvert_exporter": "python",
   "pygments_lexer": "ipython3",
   "version": "3.10.8"
  },
  "orig_nbformat": 4,
  "vscode": {
   "interpreter": {
    "hash": "e270835f4bfce5bc532b5dc50749dc7eb95e14b0cdf2f07d1d0d28af31f72f1d"
   }
  }
 },
 "nbformat": 4,
 "nbformat_minor": 2
}
